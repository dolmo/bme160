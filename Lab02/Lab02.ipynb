{
 "cells": [
  {
   "cell_type": "markdown",
   "metadata": {},
   "source": [
    "Deliverables:  40 total points\n",
    "\n",
    " - this notebook with inspection intro and results filled out for CoordinateMathSoln  4 points\n",
    " - seqCleaner  9 points\n",
    " - fastqParse  9 points\n",
    " - coordinateMathSoln 9 points\n",
    " - converter 9 points\n",
    " - Optional: Triad class rewrite (5 points extra credit)\n",
    " \n",
    " These must be submitted as the notebook with 4(or 5) completed cells, \n",
    "     \n",
    " Due: Monday January 22, 2024 11:55pm\n",
    "\n",
    "# Lab 2 – Manipulating Data Types (40 points)\n",
    "## Overview\n",
    "Last week we introduced the Python function input(), which is used to take in string data. This week we will use input() to take in string and numeric (float and integer) data. \n",
    "\n",
    "Remember that all data returned from input() is a string object, so this will mean that you need to convert any numeric data to their respective numeric objects. The exercises in this lab will give you practice manipulating various types of data that commonly arise in computational biology problems.\n",
    "\n",
    "We are again using jupyter for this assignment. Please save this notebook into your LAB02 folder. \n"
   ]
  },
  {
   "cell_type": "markdown",
   "metadata": {},
   "source": [
    "## Sequence cleanup\n",
    "In this exercise, you will create a program to “clean up” a sequence of DNA by removing ambiguous bases (denoted by “N”) output from a sequencer. Your task is to create a Python program called seqCleaner that\n",
    " - asks for and collects a sequence of DNA using input()\n",
    " - removes the ambiguous parts of the sequence, outputs the “cleaned” sequence, replacing the ambiguous parts with a count in {}’s.\n",
    "For example, if I enter the sequence of DNA “AaNNNNNNGTC” (without quotes), the program will output:<br>\n",
    "AA{6}GTC"
   ]
  },
  {
   "cell_type": "markdown",
   "metadata": {},
   "source": [
    "### Hints: \n",
    " - The input sequence is not guaranteed to be uppercase, but should be interpreted as though it is all uppercase.\n",
    " - Only the letters (A,C,G,T,N) will be included in the input.\n",
    " - Only the DNA characters (A,C,G,T) should remain after the cleanup. \n",
    " - The input may include, at most, one block of 'N' characters. \n",
    "\n",
    "To get full credit on this assignment, your code needs to:\n",
    " - Run properly (execute and produce the correct output)\n",
    " - Contain docstrings and specific line or block comments that explain the semantics of your implementation.\n",
    " - Include any assumptions or design decisions you made in writing your code\n",
    " - Include an overview describing what your program does with expected inputs and outputs. This should be in the form of a  program level dosctring."
   ]
  },
  {
   "cell_type": "markdown",
   "metadata": {},
   "source": [
    "### seqCleaner"
   ]
  },
  {
   "cell_type": "code",
   "execution_count": 30,
   "metadata": {
    "execution": {
     "iopub.execute_input": "2022-01-12T23:59:39.453Z",
     "iopub.status.busy": "2022-01-12T23:59:39.449Z",
     "iopub.status.idle": "2022-01-12T23:48:05.846Z",
     "shell.execute_reply": "2022-01-12T23:48:05.857Z"
    }
   },
   "outputs": [
    {
     "name": "stdout",
     "output_type": "stream",
     "text": [
      "AA{6}GTC\n"
     ]
    }
   ],
   "source": [
    "#!/usr/bin/env python3 \n",
    "# Name: David Olmo Marchal\n",
    "# Group Members: List full names or “None”\n",
    "\n",
    "'''\n",
    "Read a DNA string from user input and return a collapsed substring of embedded Ns to: {count}.\n",
    "\n",
    "Example: \n",
    " input: AaNNNNNNGTC\n",
    "output: AA{6}GTC\n",
    "\n",
    "Any lower case letters are converted to uppercase\n",
    "'''\n",
    "\n",
    "# Class that cleans DNA strings of repetitive ambigous bases like \"N\"\n",
    "class DNAstring (str):\n",
    "\n",
    "  #initializes the dnaString instance variable for method use and puts it in uppercase\n",
    "  def __init__(self,str):\n",
    "    self.dnaString = str.upper()\n",
    "\n",
    "# Checks for the length of the dnaString\n",
    "  def length (self):\n",
    "    return (len(self.dnaString))\n",
    "# Finds all the \"N\" bases and replaces them with a count of how many there are at the first location an N is found\n",
    "  def purify(self):\n",
    "    ''' Return an upcased version of the string, collapsing a single run of Ns.'''\n",
    "    # Locates the first \"N\" in the dnaString\n",
    "    firstN = self.dnaString.find(\"N\")\n",
    "    # Counts the number of \"N\"s in the dnaString\n",
    "    nCount = self.dnaString.count(\"N\")\n",
    "    # replaces the old string with a new string with no \"N\"s\n",
    "    self.dnaString = self.dnaString.replace(\"N\", \"\")\n",
    "    # places the count of Ns in a {count of Ns} format in the first index N was found\n",
    "    pureDNA = self.dnaString[:firstN] + f\"{{{nCount}}}\" + self.dnaString[firstN:]\n",
    "    return pureDNA\n",
    "      \n",
    "# Gets the inputted DNA and creates an object of the DNAstring class, then cleans it\n",
    "def main():\n",
    "  ''' Get user DNA data and clean it up.'''\n",
    "  data = input('DNA data?')\n",
    "  while (data):\n",
    "    thisDNA = DNAstring (data)\n",
    "    pureData = thisDNA.purify()\n",
    "    print (pureData)\n",
    "    data = input('DNA data?')\n",
    "    \n",
    "main()"
   ]
  },
  {
   "cell_type": "markdown",
   "metadata": {},
   "source": [
    "## Sequence information parsing\n",
    "In this exercise, you will create a program to “parse” sequence name information from a single line of a FASTQ formatted file. Your task is to create a Python script called fastqParse that:\n",
    " - asks for and collects the seqname line of a FASTQ file using input()\n",
    " - parses out each field of the run information from the string and displays each of them on a new line\n",
    "For example, if I enter the FASTQ seqname line:<br> \n",
    "__*@EAS139:136:FC706VJ:2:2104:15343:197393*__\n",
    "then the program will output:<br>\n",
    "Instrument = EAS139<br>\n",
    "Run ID = 136<br>\n",
    "Flow Cell ID = FC706VJ<br>\n",
    "Flow Cell Lane = 2<br>\n",
    "Tile Number = 2104<br>\n",
    "X-coord = 15343<br>\n",
    "Y-coord = 197393\n",
    "### Hints: \n",
    " - The input string is guaranteed to have 7 fields. \n",
    " - The first character of the FASTQ seqname line is “@” and each field of the run information is separated by a colon“:”.  \n",
    " - A reasonable solution would be around 16 lines of code excluding comments.\n",
    "\n",
    "To get full credit on this assignment, your code needs to:\n",
    " - Run properly (execute and produce the correct output)\n",
    " - Contain documentation/comments\n",
    " - Include any assumptions or design decisions you made in writing your code\n",
    " - Include an overview describing what your program does with expected inputs and outputs"
   ]
  },
  {
   "cell_type": "markdown",
   "metadata": {},
   "source": [
    "### fastqParse"
   ]
  },
  {
   "cell_type": "code",
   "execution_count": null,
   "metadata": {
    "collapsed": true
   },
   "outputs": [
    {
     "name": "stdout",
     "output_type": "stream",
     "text": [
      "Instrument = EAS139\n",
      "Run ID = 136\n",
      "Flow Cell ID = FC706VJ\n",
      "Flow Cell Lane = 2\n",
      "Tile Number = 2104\n",
      "X-coord = 15343\n",
      "Y-coord = 197393\n"
     ]
    }
   ],
   "source": [
    "#!/usr/bin/env python3 \n",
    "# Name: David Olmo Marchal\n",
    "# Group Members: List full names or “None”\n",
    "\n",
    "'''\n",
    "Program docstring goes here.\n",
    "'''\n",
    "\n",
    "# Class that parses through the given FASTQ seqname and unpacks the important information into an organized set of lines\n",
    "class FastqString (str):\n",
    "    #initializes the fastq string for usage around the class\n",
    "    def __init__(self,str):\n",
    "        self.fastq  = str\n",
    "    ''' Class docstring goes here.'''\n",
    "    #parses through the string by replacing the unneeded formatting, like @. Then splits the string into a list by the : dividers\n",
    "    def parse(self):\n",
    "      ''' Method docstring goes here.'''\n",
    "      #gets rid of @ and splits by colons\n",
    "      self.fastq = self.fastq.replace(\"@\",\"\")\n",
    "      fastqList = self.fastq.split(\":\")\n",
    "      # returns the information on seperate lines given the lists elements\n",
    "      return(\"Instrument = {0}\\nRun ID = {1}\\nFlow Cell ID = {2}\\nFlow Cell Lane = {3}\\nTile Number = {4}\\nX-coord = {5}\\nY-coord = {6}\".format(*fastqList))\n",
    "    \n",
    "      pass\n",
    "    \n",
    "# asks for an inputted fastq,parses and then inputs\n",
    "def main():\n",
    "  ''' Function docstring goes here.'''\n",
    "  fastq = input(\"What is the seqname of the FASTQ file?\")\n",
    "  thisFastq = FastqString(fastq)\n",
    "  parsed = thisFastq.parse()\n",
    "  print(parsed)\n",
    "  pass\n",
    "\n",
    "main()"
   ]
  },
  {
   "cell_type": "markdown",
   "metadata": {},
   "source": [
    "## Protein coordinates\n",
    "In this exercise, you will create a program that takes three sets of atomic coordinates, all provided on a **single line**. The program then calculates the bond lengths and angles. For this program, you can start with the Triad class (provided). Your task is to create a Python program called coordinateMathSoln that:\n",
    " - asks for and collects three sets of coordinates using input(), only use 1 line for this data !!\n",
    " - outputs the N-C and N-Ca bond lengths and the C-N-Ca bond angle with correct number of significant digits (see below)\n",
    " \n",
    "For example, if I enter the following coordinates (notice.. they are all on one line !!!) :<br>\n",
    "\n",
    "C = (39.447, 94.657, 11.824) N = (39.292, 95.716, 11.027) Ca = (39.462, 97.101, 11.465) <br>\n",
    "\n",
    "then the program will output the following three lines:<br>\n",
    "N-C bond length = 1.33<br>\n",
    "N-Ca bond length = 1.46<br>\n",
    "C-N-Ca bond angle = 124.0<br> \n",
    "\n",
    "(Note: make sure that the angle returned is in **degrees** !!)\n",
    "### Hints: \n",
    " - Each coordinate will contain only 3 numeric values. \n",
    " - Bond lengths are the distance between two points, which for points P and Q in 3-space,\n",
    "$(P_x , P_y , P_z )$ and $(Q_x , Q_y , Q_z )$ respectively, the distance between them is:\n",
    "\n",
    "\n",
    "$$\n",
    "\\begin {eqnarray}\n",
    "     \\|PQ\\| &=&\\sqrt{(P_x-Q_x)^2 + (P_y-Q_y)^2 + (P_z-Q_z)^2)} \\\\\n",
    "            &=&\\sqrt{\\sum^{i \\in x,y,z}{(P_i-Q_i)^2}} \\\\\n",
    "\\end{eqnarray}\n",
    "$$\n",
    "\n",
    " - Bond angles can be calculated from the dot product.\n",
    " \n",
    "Let’s say that we have three points in space labeled P, Q and R. We are interested in the angle at point Q that is made from line segments QP and QR.\n",
    "The dot product tells us (for standard vectors P and R) that:\n",
    "$$P \\cdot R=\\|P\\| \\|R\\| \\cos{\\theta}$$\n",
    "in this notation,$\\|P\\|$ refers to the length of vector P as a standard vector (assumed to begin at the origin (0,0,0) ).\n",
    "We can then see that the angle between vectors P and R can be found by:\n",
    "$$\\cos{\\theta}=\\frac{P \\cdot R} {\\|P\\| \\|R\\|}$$\n",
    "\n",
    "We can calculate the dot product using the sum of products of the vector components:\n",
    "$$P \\cdot R = \\sum^{i \\in x,y,z}{P_i R_i} $$\n",
    "\n",
    "Now, to find vector P in standard form, we need to remember that QP starts at Q, so we need to place the origin at Q and find out where P is in that new space. We do that by subtracting the components of Q from P.\n",
    "Putting all of this together, we get:\n",
    "$$\\theta=\\cos^{-1}{\\frac{\\sum^{i \\in x,y,z}{(P_i - Q_i) (R_i - Q_i) }} {\\|QP\\| \\|QR\\|}}$$\n",
    "Remember, $\\theta$ is in radians.\n",
    "\n",
    "Below I have given you a class (Triad) with methods to calculate dot products (dot), dot products of translated vectors (ndot), distances (dPQ, dPR, dPR) and angles in radians (angleP, angleQ and angleR) for each of the three points in a Triad object.\n",
    "A reasonable solution for this exercise involves around 12 lines of additional code excluding comments.\n",
    "\n",
    "To get full credit on this assignment, your code needs to:\n",
    " - Run properly (execute and produce the correct output)\n",
    " - Contain docstrings and line comments (using #)\n",
    " - Include any assumptions or design decisions you made in writing your code\n",
    " - Include an overview describing what your program does with expected inputs and outputs as a program level docstring\n",
    " "
   ]
  },
  {
   "cell_type": "markdown",
   "metadata": {
    "nteract": {
     "transient": {
      "deleting": false
     }
    }
   },
   "source": [
    "## Inspection Introduction\n",
    "\n",
    "For this weeks inspection please focus on coordinateMathSoln. Consider the design choices that you made, how you are dealing with the single line of input data, how you are doing the data conversions, and how you convert to degrees.\n"
   ]
  },
  {
   "cell_type": "markdown",
   "metadata": {},
   "source": [
    "### coordinateMathSoln"
   ]
  },
  {
   "cell_type": "code",
   "execution_count": 28,
   "metadata": {
    "collapsed": true
   },
   "outputs": [
    {
     "name": "stdout",
     "output_type": "stream",
     "text": [
      "N-C bond length = 1.33\n",
      "N-Ca bond length = 1.46\n",
      "C-N-Ca bond angle = 124.00\n"
     ]
    }
   ],
   "source": [
    "#!/usr/bin/env python3 \n",
    "# Name: David Olmo Marchal\n",
    "# Group Members: List full names or “None”\n",
    "\n",
    "'''\n",
    "Program docstring goes here\n",
    "'''\n",
    "\n",
    "import math\n",
    "class Triad :\n",
    "    \"\"\"\n",
    "    Calculate angles and distances among a triad of points.\n",
    " \n",
    "    Author: David Bernick\n",
    "    Date: March 21, 2013\n",
    "    Points can be supplied in any dimensional space as long as they are consistent.\n",
    "    Points are supplied as tupels in n-dimensions, and there should be three\n",
    "    of those to make the triad. Each point is positionally named as p,q,r\n",
    "    and the corresponding angles are then angleP, angleQ and angleR.\n",
    "    Distances are given by dPQ(), dPR() and dQR()\n",
    " \n",
    "    Required Modules: math\n",
    "    initialized: 3 positional tuples representing Points in n-space\n",
    "             p1 = Triad( p=(1,0,0), q=(0,0,0), r=(0,1,0) )\n",
    "    attributes: p,q,r the 3 tuples representing points in N-space\n",
    "    methods:  angleP(), angleR(), angleQ() angles measured in radians\n",
    "          dPQ(), dPR(), dQR() distances in the same units of p,q,r\n",
    " \n",
    "    \"\"\"\n",
    " \n",
    "    def __init__(self,p,q,r) :\n",
    "        \"\"\" Construct a Triad. \n",
    "        \n",
    "        Example construction:\n",
    "            p1 = Triad( p=(1.,0.,0.), q=(0.,0.,0.), r=(0.,0.,0.) ). \n",
    "        \"\"\"\n",
    "        self.p = p\n",
    "        self.q = q\n",
    "        self.r = r\n",
    "        \n",
    "# private helper methods\n",
    "    def d2 (self,a,b) : # calculate squared distance of point a to b\n",
    "        return float(sum((ia-ib)*(ia-ib)  for  ia,ib in zip (a,b)))\n",
    "    \n",
    "    def dot (self,a,b) : # dotProd of standard vectors a,b\n",
    "        return float(sum(ia*ib for ia,ib in zip(a,b)))\n",
    "    \n",
    "    def ndot (self,a,b,c) : # dotProd of vec. a,c standardized to b\n",
    "        return float(sum((ia-ib)*(ic-ib) for ia,ib,ic in zip (a,b,c)))\n",
    "    \n",
    "# calculate lengths(distances) of segments PQ, PR and QR\n",
    "    def dPQ (self):\n",
    "        \"\"\" Provides the distance between point p and point q \"\"\"\n",
    "        return math.sqrt(self.d2(self.p,self.q))\n",
    "    \n",
    "    def dPR (self):\n",
    "        \"\"\" Provides the distance between point p and point r \"\"\"\n",
    "        return math.sqrt(self.d2(self.p,self.r))\n",
    "    \n",
    "    def dQR (self):\n",
    "        \"\"\" Provides the distance between point q and point r \"\"\"\n",
    "        return math.sqrt(self.d2(self.q,self.r))\n",
    "    \n",
    "    def angleP (self) :\n",
    "        \"\"\" Provides the angle made at point p by segments pq and pr (radians). \"\"\"\n",
    "        return math.acos(self.ndot(self.q,self.p,self.r) / \n",
    "                         math.sqrt(self.d2(self.q,self.p) * self.d2(self.r,self.p)))\n",
    "    \n",
    "    def angleQ (self) :\n",
    "        \"\"\" Provides the angle made at point q by segments qp and qr (radians). \"\"\"\n",
    "        return math.acos(self.ndot(self.p,self.q,self.r) /\n",
    "                         math.sqrt(self.d2(self.p,self.q) * self.d2(self.r,self.q)))\n",
    " \n",
    "    def angleR (self) :\n",
    "        \"\"\" Provides the angle made at point r by segments rp and rq (radians). \"\"\"\n",
    "        return math.acos(self.ndot(self.p,self.r,self.q) /\n",
    "                         math.sqrt(self.d2(self.p,self.r) * self.d2(self.q,self.r)))\n",
    "\n",
    "def main():\n",
    "    ''' Function docstring goes here'''\n",
    "\n",
    "    # Gets the inputted coordinate system from the user\n",
    "    statement =input(\"What are your three sets of coordinates?\")\n",
    "    formatted_statement = \"\"\n",
    "    #Formats the system by getting rid of unneeded characters, isolating the actual numbers\n",
    "    for char in statement:\n",
    "        if ( char.isdigit() or char in [\",\" ,\".\" ,\"-\"]):\n",
    "            formatted_statement += char\n",
    "        else:\n",
    "            formatted_statement += \" \"\n",
    "\n",
    "    #splits the individual x,y,z coordinates into a list, should give 9 string with numbers\n",
    "    formatted_statement = \" \".join(formatted_statement.split())\n",
    "    formatted_statement = formatted_statement.replace(\",\", \" \").split()\n",
    "\n",
    "    #converts the strings in the list into float numbers to be able to be used in calculations\n",
    "    formatted_statement = [float(coord) for coord in formatted_statement]\n",
    "    #brings those 9 different numbers into each individual coordinate tuple and then makes an object of the Triad class\n",
    "    p,q,r = tuple(formatted_statement[0:3]), tuple(formatted_statement[3:6]), tuple(formatted_statement[6:])  \n",
    "    coordinates = Triad(p,q,r)\n",
    "    #Calculates the distances between N-C and N-Ca and then the bond angle (Need to convert to degrees so we multiply by 180/pi) by calling the helper methods in the Triad class\n",
    "    #formatted to 2 decimal points\n",
    "    print(\"N-C bond length = %.2f\" % coordinates.dPQ())\n",
    "    print(\"N-Ca bond length = %.2f\" % coordinates.dQR())\n",
    "    print(\"C-N-Ca bond angle = %.2f\" % (coordinates.angleQ() * (180/math.pi)))\n",
    "    \n",
    "\n",
    "   \n",
    "\n",
    "\n",
    "\n",
    "    pass\n",
    "\n",
    "\n",
    "main()"
   ]
  },
  {
   "cell_type": "markdown",
   "metadata": {
    "nteract": {
     "transient": {
      "deleting": false
     }
    }
   },
   "source": [
    "## Inspection Results \n",
    "(Group, Findings and your Responses to those findings)"
   ]
  },
  {
   "cell_type": "markdown",
   "metadata": {},
   "source": [
    "## Extra credit (5 points): Rewrite the Triad class.  \n",
    "For extra-credit, provide a direct replacement for the Triad class. The external methods that calculate angles, distances, and points (tuples) p,q and r must be maintained such that either version of the Triad class can be used.\n",
    "\n",
    "You could use the cosine law to calculate angles instead of the dot product.  You might make use of the numpy module. You might recode each of the methods to avoid using zip. You might consider using list iterations.\n",
    "Your Triad replacement must reimplement all of Triad public function, without using zip and without being a trivial rewrite. Your implementation need not be as compact as the current implementation, and it needs to be correct and fully documented to receive full credit. "
   ]
  },
  {
   "cell_type": "markdown",
   "metadata": {},
   "source": [
    "### Triad rewrite"
   ]
  },
  {
   "cell_type": "code",
   "execution_count": 52,
   "metadata": {
    "collapsed": true
   },
   "outputs": [],
   "source": [
    "class Triad:\n",
    "    def __init__(self,p,q,r) :\n",
    "        \"\"\" Construct a Triad.  \n",
    "        \n",
    "        Example object construction:\n",
    "            p1 = Triad( p=(1.,0.,0.), q=(0.,0.,0.), r=(0.,0.,0.) ).\n",
    "        \"\"\"\n",
    "        self.p = p\n",
    "        self.q = q\n",
    "        self.r = r\n",
    "    def dPQ (self):\n",
    "        \"\"\" Return the distance between point p and point q \"\"\"\n",
    "        pass\n",
    "    \n",
    "    def dPR (self):\n",
    "        \"\"\" Return the distance between point p and point r \"\"\"\n",
    "        pass\n",
    "    \n",
    "    def dQR (self):\n",
    "        \"\"\" Return the distance between point q and point r \"\"\"\n",
    "        pass\n",
    "    \n",
    "    def angleP (self) :\n",
    "        \"\"\" Return the angle made at point p by segments pq and pr (radians). \"\"\"\n",
    "        pass\n",
    "    \n",
    "    def angleQ (self) :\n",
    "        \"\"\" Return the angle made at point q by segments qp and qr (radians). \"\"\"\n",
    "        pass\n",
    "        \n",
    "    def angleR (self) :\n",
    "        \"\"\" Return the angle made at point r by segments rp and rq (radians). \"\"\"\n",
    "        pass\n",
    "        "
   ]
  },
  {
   "cell_type": "markdown",
   "metadata": {},
   "source": [
    "## Codon tables and amino acid letter converters\n",
    "In this exercise, you will create a Python solution that uses mappings to convert sequence information between different amino acid representations.  This includes the 3-letter codon code (RNA and DNA), the one letter amino acid code and the 3-letter amino acid code.\n",
    "The program will use different dictionaries that represent :\n",
    "codon tables – one for DNA and the other for RNA, and\n",
    "amino acid letter representation converters. \n",
    "\n",
    "Your task is to create a solution that\n",
    "asks for and collects a single input string using input()\n",
    "parses the string, looks up the information in the appropriate dictionary, and outputs the correct conversion\n",
    "For example:<br>\n",
    "\n",
    "if I enter “ATG” (without quotes), then the program will output:<br>\n",
    "ATG = MET<br>\n",
    " \n",
    "if I enter “UAG” (without quotes), then the program will output:<br>\n",
    "UAG = ---<br>\n",
    "if I enter “E” (without quotes), then the program will output:<br>\n",
    "E = GLU<br>\n",
    "if I enter “Asp” (without quotes), then the program will output:<br>\n",
    "ASP = D<br>\n",
    "### Hints: \n",
    " - The program might not get a valid codon.  In that case, it should output 'unknown'.  You can use the dictionary method 'get' and include a default_value to handle the 'unknown' case. Remeeber our discussion of how  the _or_ function is a short-circuit operator.\n",
    " \n",
    "To get full credit on this assignment, your program needs to:\n",
    " - Run properly (execute and produce the correct output)\n",
    " - Contain docstrings and line comments (using #)\n",
    " - Include any assumptions or design decisions you made in writing your code\n",
    " - Include an overview describing what your program does with expected inputs and outputs as a program level docstring\n",
    " "
   ]
  },
  {
   "cell_type": "markdown",
   "metadata": {},
   "source": [
    "### converter"
   ]
  },
  {
   "cell_type": "code",
   "execution_count": 57,
   "metadata": {
    "collapsed": true
   },
   "outputs": [
    {
     "name": "stdout",
     "output_type": "stream",
     "text": [
      "ASP = D\n"
     ]
    }
   ],
   "source": [
    "#!/usr/bin/env python3 \n",
    "# Name: David Olmo Marchal\n",
    "# Group Members: List full names or “None”\n",
    "\n",
    "'''\n",
    "In this program we take a given input from the user and then categorize into 4 different types of inputs/outputs, short_AA, long_AA, RNA codon->AA, DNA codon-> AA\n",
    "'''\n",
    "short_AA = {\n",
    "            'CYS': 'C', 'ASP': 'D', 'SER': 'S', 'GLN': 'Q', 'LYS': 'K',\n",
    "            'ILE': 'I', 'PRO': 'P', 'THR': 'T', 'PHE': 'F', 'ASN': 'N', \n",
    "            'GLY': 'G', 'HIS': 'H', 'LEU': 'L', 'ARG': 'R', 'TRP': 'W', \n",
    "            'ALA': 'A', 'VAL': 'V', 'GLU': 'E', 'TYR': 'Y', 'MET': 'M'\n",
    "            }\n",
    "\n",
    "long_AA = {value:key for key,value in short_AA.items()}\n",
    "\n",
    "RNA_codon_table = {\n",
    "# Second Base\n",
    "# U             C             A             G\n",
    "#U\n",
    "'UUU': 'Phe', 'UCU': 'Ser', 'UAU': 'Tyr', 'UGU': 'Cys',\n",
    "'UUC': 'Phe', 'UCC': 'Ser', 'UAC': 'Tyr', 'UGC': 'Cys',\n",
    "'UUA': 'Leu', 'UCA': 'Ser', 'UAA': '---', 'UGA': '---',\n",
    "'UUG': 'Leu', 'UCG': 'Ser', 'UAG': '---', 'UGG': 'Trp',\n",
    "#C \n",
    "'CUU': 'Leu', 'CCU': 'Pro', 'CAU': 'His', 'CGU': 'Arg',\n",
    "'CUC': 'Leu', 'CCC': 'Pro', 'CAC': 'His', 'CGC': 'Arg',\n",
    "'CUA': 'Leu', 'CCA': 'Pro', 'CAA': 'Gln', 'CGA': 'Arg',\n",
    "'CUG': 'Leu', 'CCG': 'Pro', 'CAG': 'Gln', 'CGG': 'Arg',\n",
    "#A\n",
    "'AUU': 'Ile', 'ACU': 'Thr', 'AAU': 'Asn', 'AGU': 'Ser',\n",
    "'AUC': 'Ile', 'ACC': 'Thr', 'AAC': 'Asn', 'AGC': 'Ser',\n",
    "'AUA': 'Ile', 'ACA': 'Thr', 'AAA': 'Lys', 'AGA': 'Arg',\n",
    "'AUG': 'Met', 'ACG': 'Thr', 'AAG': 'Lys', 'AGG': 'Arg',\n",
    "#G\n",
    "'GUU': 'Val', 'GCU': 'Ala', 'GAU': 'Asp', 'GGU': 'Gly',\n",
    "'GUC': 'Val', 'GCC': 'Ala', 'GAC': 'Asp', 'GGC': 'Gly',\n",
    "'GUA': 'Val', 'GCA': 'Ala', 'GAA': 'Glu', 'GGA': 'Gly',\n",
    "'GUG': 'Val', 'GCG': 'Ala', 'GAG': 'Glu', 'GGG': 'Gly'\n",
    "}\n",
    "dnaCodonTable = {key.replace('U','T'):value for key, value in RNA_codon_table.items()}\n",
    "\n",
    "def main():\n",
    "    ''' Function docstring goes here'''\n",
    "\n",
    "    codon  = input(\"Enter codon or amino acid: \").upper()\n",
    "    #checks if it will be in short AA or long AA and or RNA and DNA codon table\n",
    "    if (len(codon) == 3):\n",
    "        #checks if codon is an amino acid\n",
    "        if (codon in short_AA):\n",
    "            print(\"%s = %s\"%(codon,short_AA.get(codon).upper()))\n",
    "\n",
    "        else:\n",
    "            #Checks if its a DNA OR RNA code\n",
    "            if(\"U\" in codon):\n",
    "               #RNA\n",
    "                print(\"%s = %s\"%(codon,RNA_codon_table.get(codon).upper()))\n",
    "\n",
    "            else:\n",
    "                #DNA\n",
    "                print(\"%s = %s\"%(codon,dnaCodonTable.get(codon).upper()))\n",
    "    else:\n",
    "        #prints out the long amino acid given short code\n",
    "        print(\"%s = %s\"%(codon,long_AA.get(codon).upper()))\n",
    "\n",
    "        \n",
    "\n",
    "    \n",
    "    pass\n",
    "\n",
    "main()"
   ]
  },
  {
   "cell_type": "markdown",
   "metadata": {},
   "source": [
    "## Submit your code and answers\n",
    " \n",
    "Important: please save your work before logging out of the computer. This will ensure that you have a copy of your work and you will avoid having to redo everything in the  event that something happens with the lab computers. The three recommended solutions (pick one) at this point are to:\n",
    " - Email your code file to yourself\n",
    " - Copy your code file to a pen drive\n",
    " - Save your work on your own computer if you are using Anaconda ( or equiv)\n",
    "\n",
    "Submit the notebook created as part of this lab assignment, with cells completed:\n",
    " \n",
    " - this notebook file, complete with inspection introduction and inspection for coordMathSoln (4 points)\n",
    " - seqCleaner 9 points\n",
    " - fastqParse 9 points\n",
    " - coordinateMathSoln 9 points\n",
    " - converter 9 points\n",
    " - triad Triad rewrite (optional) 5 points\n",
    " \n",
    "Important: to get full credit on this lab assignment, each of the code cells you submit needs to:\n",
    " - Run properly (execute and produce the correct output)\n",
    " - Contain proper docstrings and appropriate line style comments (#)\n",
    " \n",
    "Congratulations, you finished your second lab assignment!"
   ]
  }
 ],
 "metadata": {
  "kernelspec": {
   "display_name": "Python 3",
   "language": "python",
   "name": "python3"
  },
  "language_info": {
   "codemirror_mode": {
    "name": "ipython",
    "version": 3
   },
   "file_extension": ".py",
   "mimetype": "text/x-python",
   "name": "python",
   "nbconvert_exporter": "python",
   "pygments_lexer": "ipython3",
   "version": "3.11.9"
  },
  "nteract": {
   "version": "0.28.0"
  }
 },
 "nbformat": 4,
 "nbformat_minor": 2
}
