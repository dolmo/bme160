{
 "cells": [
  {
   "cell_type": "markdown",
   "id": "04eae168",
   "metadata": {},
   "source": [
    "<font size=7> Project 6"
   ]
  },
  {
   "cell_type": "markdown",
   "id": "ec35f8ea",
   "metadata": {},
   "source": [
    "In this homework you learn how to **plot** and **analyze** neurological data from brain organoids similar to this paper: https://www.nature.com/articles/s41467-022-32115-4"
   ]
  },
  {
   "cell_type": "markdown",
   "id": "9cb93d66",
   "metadata": {},
   "source": [
    "# <font color=\"grey\">Notebook Setup"
   ]
  },
  {
   "cell_type": "markdown",
   "id": "15e333e0",
   "metadata": {},
   "source": [
    "This homework can be done entirely with numpy and matplot lib. So, our first step is to import those packages and load our data file."
   ]
  },
  {
   "cell_type": "code",
   "execution_count": 12,
   "id": "1c8facd9",
   "metadata": {},
   "outputs": [],
   "source": [
    "import numpy as np\n",
    "import matplotlib.pyplot as plt"
   ]
  },
  {
   "cell_type": "code",
   "execution_count": 13,
   "id": "d45eabf3",
   "metadata": {},
   "outputs": [],
   "source": [
    "data = np.load(\"data.npz\", allow_pickle=True)"
   ]
  },
  {
   "cell_type": "markdown",
   "id": "9ec6a7cb",
   "metadata": {},
   "source": [
    "The data that we are working with is raw data that has been packaged together as a zipped numpy array. Lets start by inspecting the structure of this file. "
   ]
  },
  {
   "cell_type": "code",
   "execution_count": 14,
   "id": "8911508e",
   "metadata": {},
   "outputs": [
    {
     "name": "stdout",
     "output_type": "stream",
     "text": [
      "['train', 'neuron_data', 'redundant_pairs', 'fs'] \n",
      "\n",
      "trains's type is: <class 'numpy.ndarray'>\n",
      "neuron_data's type is: <class 'numpy.ndarray'>\n",
      "redundant_pairs's type is: <class 'numpy.ndarray'>\n",
      "fs's type is: <class 'numpy.ndarray'>\n"
     ]
    }
   ],
   "source": [
    "print(data.files, \"\\n\")\n",
    "print(f\"trains's type is: {type(data['train'])}\")\n",
    "print(f\"neuron_data's type is: {type(data['neuron_data'])}\")\n",
    "print(f\"redundant_pairs's type is: {type(data['redundant_pairs'])}\")\n",
    "print(f\"fs's type is: {type(data['fs'])}\")"
   ]
  },
  {
   "cell_type": "markdown",
   "id": "12c9864e",
   "metadata": {},
   "source": [
    "We see that the zipped file contains 4 different numpy arrays. Each key corresponds to a different aspect of the recording.\n",
    "\n",
    "1. `train`: This key contains the spike train data. It is a dictionary where each key corresponds to a neuron, and the value is a list of spike times for that neuron. In other words, for each neuron, we have a list of timestamps indicating when each spike occurred during the recording.\n",
    "\n",
    "2. `neuron_data`: This key contains additional data about the neurons, such as their spatial positions or other relevant attributes. It helps us understand the context of each neuron's activity.\n",
    "\n",
    "3. `redundant_pairs`: This key contains information about pairs of neurons that have redundant activity. This can be useful for identifying functional connections or redundancies.\n",
    "\n",
    "4. `fs`: This key represents the sampling frequency of the recording. It tells us the rate at which the data was sampled, which is crucial for accurate time-based analyses."
   ]
  },
  {
   "cell_type": "code",
   "execution_count": 15,
   "id": "c4f74f86",
   "metadata": {},
   "outputs": [],
   "source": [
    "# Create a dictionary object from the train object\n",
    "# Data[\"train\"] returns a 0 dimensional object, .item() extracts the actual dictionary in this object\n",
    "spike_times = data[\"train\"].item() \n",
    "\n",
    "\n",
    "neuron_data = data[\"neuron_data\"].item()\n",
    "fs = data[\"fs\"]\n",
    "\n",
    "train = [times / fs for _, times in spike_times.items()]"
   ]
  },
  {
   "cell_type": "markdown",
   "id": "b949a2df",
   "metadata": {},
   "source": [
    "If you wish to inspect each of these keys further you can print the objects that are defined in the cells above/below. (i.e. `print(spike_times)`)"
   ]
  },
  {
   "cell_type": "markdown",
   "id": "68918ea0",
   "metadata": {},
   "source": [
    "# Create a Spike Raster"
   ]
  },
  {
   "cell_type": "markdown",
   "id": "8e779315",
   "metadata": {},
   "source": [
    "The first step in analyzing our data is to understand the information contained within the train dictionary. This dictionary holds the spike train data for each recorded neuron. Specifically, a spike train is a 2D matrix where each row represents a neuron, and each column is a single moment in time. Each entry in the matrix is a moment in time where a neuron emits a signal. \n",
    "\n",
    "In this section we will use the train dictionary to figure out how many neurons there are, the total duration of the recording, and to create a visualization of neuronal activity."
   ]
  },
  {
   "cell_type": "markdown",
   "id": "fa112941",
   "metadata": {},
   "source": [
    "**How many neurons are in our dataset?**"
   ]
  },
  {
   "cell_type": "code",
   "execution_count": 16,
   "id": "68c2585c",
   "metadata": {},
   "outputs": [],
   "source": [
    "### YOUR CODE GOES HERE ###"
   ]
  },
  {
   "cell_type": "markdown",
   "id": "c3cbab6b",
   "metadata": {},
   "source": [
    "**What is the total duration of our recording?**"
   ]
  },
  {
   "cell_type": "code",
   "execution_count": 17,
   "id": "c2c4965e",
   "metadata": {},
   "outputs": [],
   "source": [
    "### YOUR CODE GOES HERE ###"
   ]
  },
  {
   "cell_type": "markdown",
   "id": "606be824",
   "metadata": {},
   "source": [
    "We are now going to visualize the information in the spike train. To do this we will create a \"spike raster plot.\" In a spike raster plot the x-axis represents time and has values from 0 to the duration of the recording. The y-axis values correspond to the neuron number, its range is from 0 to the total number of neurons in the dataset.\n",
    "\n",
    "Each data point in the plot represents a spike, and any point along a horizontal row corresponds to the spikes of a single neuron over time. This means that each row shows the activity of one neuron, with spikes appearing as dots at the specific times they occurred. \n",
    "\n",
    "Raster plots are helpful in vizualizing firing patterns in groups of neurons  \n",
    "\n",
    "A sample plot has been included below"
   ]
  },
  {
   "cell_type": "markdown",
   "id": "391d1662",
   "metadata": {},
   "source": [
    "![alt text](spikeraster.png)"
   ]
  },
  {
   "cell_type": "code",
   "execution_count": 18,
   "id": "b983a1eb",
   "metadata": {},
   "outputs": [],
   "source": [
    "### YOUR CODE GOES HERE ###"
   ]
  },
  {
   "cell_type": "markdown",
   "id": "4aa6faf8",
   "metadata": {},
   "source": [
    "# Spatial Firing Rate"
   ]
  },
  {
   "cell_type": "markdown",
   "id": "6990f3b1",
   "metadata": {},
   "source": [
    "The next step in our analysis is to visualize the firing rates of neurons in relation to their spatial positions. We will do this by following these steps:\n",
    "\n",
    "1. Calculate the Average Firing Rate:\n",
    "    Using only the information contained in the spike train data, we can determine the average firing rate for each neuron. It is defined as the total number of spikes divided by total time (in seconds):\n",
    "\n",
    "2. Visualize Neuron Positions:\n",
    "    With the information from the neuron_data key, which contains the spatial positions of each neuron, we can create a plot that shows where each neuron is located.\n",
    "\n",
    "3. Overlay Firing Rates:\n",
    "    Finally, we will overlay the average firing rates onto the neuron position plot. This will be done by using bubbles at each neuron's position, where the size of each bubble corresponds to the neuron's average firing rate. \n",
    "    \n",
    "This will allow us to look at how neuronal activity varies across different spatial locations."
   ]
  },
  {
   "cell_type": "markdown",
   "id": "1df3d215",
   "metadata": {},
   "source": [
    "## Calculate the Mean Firing Rate for each Neuron"
   ]
  },
  {
   "cell_type": "markdown",
   "id": "18a82c27",
   "metadata": {},
   "source": [
    "\n",
    "Your answer here should be an array whose length corresponds to the total number of neurons, where each entry corresponds to the average firing rate of that neuron"
   ]
  },
  {
   "cell_type": "code",
   "execution_count": 19,
   "id": "46f27494",
   "metadata": {},
   "outputs": [],
   "source": [
    "def calculate_mean_firing_rates(train, recording_length):\n",
    "    mean_firing_rates = []\n",
    "    for neuron_spikes in train:\n",
    "        num_spikes = len(neuron_spikes)\n",
    "        firing_rate = num_spikes / recording_length\n",
    "        mean_firing_rates.append(firing_rate)\n",
    "\n",
    "    return np.array(mean_firing_rates)"
   ]
  },
  {
   "cell_type": "code",
   "execution_count": 20,
   "id": "658f2332",
   "metadata": {},
   "outputs": [],
   "source": [
    "### YOUR CODE GOES HERE ###"
   ]
  },
  {
   "cell_type": "markdown",
   "id": "a5a18996",
   "metadata": {},
   "source": [
    "# Plot the Spatial Position of each Neuron\n",
    "A sample plot has been included below"
   ]
  },
  {
   "cell_type": "markdown",
   "id": "0db8189b",
   "metadata": {},
   "source": [
    "![alt text](spatialmap.png)"
   ]
  },
  {
   "cell_type": "code",
   "execution_count": 21,
   "id": "e21bd8cb",
   "metadata": {},
   "outputs": [],
   "source": [
    "### YOUR CODE GOES HERE ###"
   ]
  },
  {
   "cell_type": "markdown",
   "id": "9217670c",
   "metadata": {},
   "source": [
    "# Plot a Spatial Map of Average Single Neuron Firing Rate"
   ]
  },
  {
   "cell_type": "markdown",
   "id": "48687ed2",
   "metadata": {},
   "source": [
    "We can now combine the list of average firing rates with our spatial map to get a nice visualiation of how firing rate may vary with position.\n",
    "\n",
    "A sample plot has been included below\n",
    "\n",
    "Hint: \n",
    "You don't need to write new code for this plot. Use the code for your spatial map and add two parameters to the line where you create the plot (refer to the matplotlib documentation). Set each data point's size to depend on its corresponding average firing rate value. Also, adjust for overlapping data points."
   ]
  },
  {
   "cell_type": "markdown",
   "id": "90ed26c8",
   "metadata": {},
   "source": [
    "![alt text](spatialmap_avg_firing.png)"
   ]
  },
  {
   "cell_type": "code",
   "execution_count": 22,
   "id": "0ac70db8",
   "metadata": {},
   "outputs": [],
   "source": [
    "### YOUR CODE GOES HERE ###"
   ]
  },
  {
   "cell_type": "markdown",
   "id": "9b676a78",
   "metadata": {},
   "source": [
    "# Plot the Population Level Activity"
   ]
  },
  {
   "cell_type": "markdown",
   "id": "8879fa42",
   "metadata": {},
   "source": [
    "Remember the raster plot from before? There, we used the spike train data to create a raster plot, and represent the activity of *individual neurons* at points in time. What is we wanted to looked at the *population activity*? \n",
    "\n",
    "In this section, we'll lead you through making population level activity plot. This will be similar to the raster plot from before, but instead of showing individual neurons, we'll show the firing rate of the entire population of neurons at each point in time.\n",
    "\n",
    "First, we'll need to calculate the population firing rate at each point in time. This is a little tricky, so we've given you the function below. \n",
    "\n",
    "**Your first task for this section is to add DocStrings and Comments to the function to briefly explain what each line does.**"
   ]
  },
  {
   "cell_type": "code",
   "execution_count": 23,
   "id": "5b3751ef",
   "metadata": {},
   "outputs": [],
   "source": [
    "def get_population_fr(trains: list, bin_size=0.1, w=5):\n",
    "    \n",
    "    '''\n",
    "    Your docstring goes here. \n",
    "\n",
    "    Params:\n",
    "        - What is the trains parameter?\n",
    "        - What is the bin_size parameter?\n",
    "    '''\n",
    "\n",
    "    trains = np.hstack(trains)                              # Hint: Add comments here!\n",
    "    rec_length = np.max(trains)                             # Maybe another comment here!\n",
    "    bin_num = int(rec_length// bin_size) + 1                # And here!\n",
    "    bins = np.linspace(0, rec_length, bin_num)          \n",
    "    fr = np.histogram(trains, bins)[0] / bin_size       \n",
    "    fr_avg = np.convolve(fr, np.ones(w), 'same') / w    \n",
    "    return bins[1:], fr_avg                           "
   ]
  },
  {
   "cell_type": "markdown",
   "id": "b02144a6",
   "metadata": {},
   "source": [
    "Now that you understand the function to find the average firing rates, **your next job is to plot it!** \n",
    "\n",
    "*Hints: Start with calling the function, and using the results as inputs for the plt.plot() function.*\n",
    "    *Make sure to include x and y labels, and a title for full credit!*"
   ]
  },
  {
   "cell_type": "markdown",
   "id": "50fad52c",
   "metadata": {},
   "source": [
    "![alt text](pop_avg_firing.png)"
   ]
  },
  {
   "cell_type": "code",
   "execution_count": 24,
   "id": "9f11ef14",
   "metadata": {},
   "outputs": [],
   "source": [
    "### YOUR CODE GOES HERE ###"
   ]
  },
  {
   "cell_type": "markdown",
   "id": "413db4ef",
   "metadata": {},
   "source": [
    "# Plot Overlayed Graphs - Population and Individual Spike Raster"
   ]
  },
  {
   "cell_type": "markdown",
   "id": "60b56690",
   "metadata": {},
   "source": [
    "Learning how to plot multiple graphs on the same figure is a useful skill. **Your job is to combine the *individual neuron* raster plot and the *population activity* plot into one figure.**\n",
    "\n",
    "![alt text](overlayed_fig.png)"
   ]
  },
  {
   "cell_type": "markdown",
   "id": "00fd8814",
   "metadata": {},
   "source": [
    "*Steps for getting started:* \n",
    "- *Start by creating a figure and axis object using plt.subplots()*\n",
    "- *Use the axis object to plot the individual neuron raster plot*\n",
    "- *Use axs1 = axs.twinx() to create a second y-axis on the right side of the plot*\n",
    "- *Use axs1 to plot the average population firing rate*\n",
    "- *Make sure to include labels and a title for full credit!*\n",
    "\n",
    "*It's also very helpful to get used to looking through APIs if you are unsure how to start!*\n",
    "- https://matplotlib.org/stable/api/_as_gen/matplotlib.pyplot.subplots.html\n",
    "- https://matplotlib.org/stable/api/_as_gen/matplotlib.pyplot.twinx.html"
   ]
  },
  {
   "cell_type": "code",
   "execution_count": 25,
   "id": "a7512435",
   "metadata": {},
   "outputs": [],
   "source": [
    "### YOUR CODE GOES HERE ###"
   ]
  },
  {
   "cell_type": "markdown",
   "id": "bb7e1610",
   "metadata": {},
   "source": [
    "# Extra Credit - Plot the STTC Heatmap"
   ]
  },
  {
   "cell_type": "markdown",
   "id": "0fb6088e",
   "metadata": {},
   "source": [
    "In this extra credit section, we will explore the functional connectivity between neurons using the Spike Time Tiling Coefficient (STTC). Functional connectivity refers to the statistical dependencies between neuronal activities, indicating how neurons influence each other's firing patterns.\n",
    "\n",
    "The STTC is a measure used to quantify the temporal correlation between the spike trains of pairs of neurons. It provides a value between -1 and 1, where:\n",
    "\n",
    "- A positive value indicates a positive correlation (neurons tend to fire together).\n",
    "- A negative value indicates a negative correlation (neurons tend to avoid firing together).\n",
    "- A value around 0 suggests no significant correlation.\n",
    "\n",
    "You are provided with a function that calculates the STTC matrix for the spike train data. The STTC matrix is a square matrix where each element represents the STTC value between a pair of neurons. The matrix has 1's along the diagonal because the values along the diagonal correspond to a pairing of a neuron with itself.\n",
    "\n",
    "Your task is to use the output matrix to create a heat map of the functional connectivity. This will help you visualize the strength and direction of connectivity between all pairs of neurons in the dataset. You should include a colorbar, proper labels, and axis ticks.\n",
    "\n",
    "A sample heatmap has been included below.\n",
    "\n",
    "\n",
    "Hint:\n",
    "Be mindful of the axis ticks. By default, there will be one tick per neuron, causing the labels to overlap and become unreadable. You need to limit the total number of ticks and space them out evenly with appropriate labels.\n"
   ]
  },
  {
   "cell_type": "markdown",
   "id": "eff0a09f",
   "metadata": {},
   "source": [
    "The function below computes the sttc matrix. "
   ]
  },
  {
   "cell_type": "code",
   "execution_count": 26,
   "id": "4c732ca8",
   "metadata": {},
   "outputs": [],
   "source": [
    "def compute_sttc_matrix(spike_train, length, delt=20):\n",
    "    def time_in_delt(tA, delt, tmax):\n",
    "        if len(tA) == 0:\n",
    "            return 0\n",
    "\n",
    "        base = min(delt, tA[0]) + min(delt, tmax - tA[-1])\n",
    "        return base + np.minimum(np.diff(tA), 2 * delt).sum()\n",
    "\n",
    "    def sttc_pairs(tA, tB, TA, TB, delt):\n",
    "        def spikes_in_delt(tA, tB, delt):\n",
    "            if len(tB) == 0:\n",
    "                return 0\n",
    "            tA, tB = np.asarray(tA), np.asarray(tB)\n",
    "            iB = np.searchsorted(tB, tA)\n",
    "            np.clip(iB, 1, len(tB) - 1, out=iB)\n",
    "            dt_left = np.abs(tB[iB] - tA)\n",
    "            dt_right = np.abs(tB[iB - 1] - tA)\n",
    "            return (np.minimum(dt_left, dt_right) <= delt).sum()\n",
    "\n",
    "        PA = spikes_in_delt(tA, tB, delt) / len(tA)\n",
    "        PB = spikes_in_delt(tB, tA, delt) / len(tB)\n",
    "\n",
    "        aa = (PA - TB) / (1 - PA * TB) if PA * TB != 1 else 0\n",
    "        bb = (PB - TA) / (1 - PB * TA) if PB * TA != 1 else 0\n",
    "        return (aa + bb) / 2\n",
    "\n",
    "    N = len(spike_train)\n",
    "    T = length\n",
    "    ts = [time_in_delt(ts, delt, T) / T for ts in spike_train]\n",
    "\n",
    "    matrix = np.diag(np.ones(N))\n",
    "    for i in range(N):\n",
    "        for j in range(i + 1, N):\n",
    "            matrix[i, j] = matrix[j, i] = sttc_pairs(\n",
    "                spike_train[i], spike_train[j], ts[i], ts[j], delt\n",
    "            )\n",
    "    return matrix\n"
   ]
  },
  {
   "cell_type": "markdown",
   "id": "5734aa65",
   "metadata": {},
   "source": [
    "A sample heatmap has been included below"
   ]
  },
  {
   "cell_type": "markdown",
   "id": "ed3c9e5c",
   "metadata": {},
   "source": [
    "![alt text](heatmap.png)"
   ]
  },
  {
   "cell_type": "code",
   "execution_count": 27,
   "id": "06376684",
   "metadata": {},
   "outputs": [],
   "source": [
    "### YOUR CODE GOES HERE ###"
   ]
  }
 ],
 "metadata": {
  "kernelspec": {
   "display_name": "Python 3 (ipykernel)",
   "language": "python",
   "name": "python3"
  },
  "language_info": {
   "codemirror_mode": {
    "name": "ipython",
    "version": 3
   },
   "file_extension": ".py",
   "mimetype": "text/x-python",
   "name": "python",
   "nbconvert_exporter": "python",
   "pygments_lexer": "ipython3",
   "version": "3.11.5"
  }
 },
 "nbformat": 4,
 "nbformat_minor": 5
}
